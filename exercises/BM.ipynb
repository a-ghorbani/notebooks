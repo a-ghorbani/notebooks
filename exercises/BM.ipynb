{
 "cells": [
  {
   "cell_type": "code",
   "execution_count": 1,
   "metadata": {
    "collapsed": true,
    "run_control": {
     "read_only": false
    }
   },
   "outputs": [],
   "source": [
    "import numpy as np\n",
    "import pylab as plt\n",
    "%matplotlib inline"
   ]
  },
  {
   "cell_type": "code",
   "execution_count": 129,
   "metadata": {
    "collapsed": true
   },
   "outputs": [],
   "source": [
    "class BM(object):\n",
    "    def __init__(self, data):\n",
    "        self.data = data\n",
    "        self.n = data.shape[1]\n",
    "        self.init_state()\n",
    "        self.init_bios()\n",
    "        self.init_weight()\n",
    "        self.init_all_state()\n",
    "    def init_state(self):\n",
    "        self.s = np.matrix(np.zeros((self.n, 1)))\n",
    "    def init_bios(self):\n",
    "        self.b = np.matrix(np.zeros((self.n, 1)))\n",
    "    def init_weight(self):\n",
    "        self.w = np.matrix(np.zeros((self.n, self.n)))\n",
    "    def init_all_state(self):\n",
    "        n = self.n\n",
    "        m = 2**n\n",
    "        u = np.matrix(np.zeros((m, n)))\n",
    "        for i in range(n-1, -1, -1):\n",
    "            offset = 2**(n-i-1)\n",
    "            for j in range(0, m, offset*2):\n",
    "                u[j:j+offset,i] = 0\n",
    "                u[j+offset:j+offset*2,i] = 1\n",
    "        self.u = u\n",
    "    def E(self):\n",
    "        return - self.b.T * self.s - self.s.T * self.w * self.s\n",
    "    def E_v(self, v):\n",
    "        return - self.b.T * v - v.T * self.w * v\n",
    "    def Z(self):\n",
    "        s = 0\n",
    "        m = 2**self.n\n",
    "        for i in range(m):\n",
    "            s += np.exp(-self.E_v(self.u[i,:].T))\n",
    "        return s\n",
    "    def P(self, v):\n",
    "        return np.exp(-self.E_v(v)) / self.Z()"
   ]
  },
  {
   "cell_type": "code",
   "execution_count": 130,
   "metadata": {
    "collapsed": true
   },
   "outputs": [],
   "source": [
    "data = np.array([[1,1,0,0],[1,0,0,0],[0,1,0,0],[0,0,0,1]])"
   ]
  },
  {
   "cell_type": "code",
   "execution_count": 131,
   "metadata": {
    "collapsed": false
   },
   "outputs": [],
   "source": [
    "bm = BM(data)"
   ]
  },
  {
   "cell_type": "code",
   "execution_count": 132,
   "metadata": {
    "collapsed": false
   },
   "outputs": [
    {
     "data": {
      "text/plain": [
       "matrix([[ 0.]])"
      ]
     },
     "execution_count": 132,
     "metadata": {},
     "output_type": "execute_result"
    }
   ],
   "source": [
    "bm.E()"
   ]
  },
  {
   "cell_type": "code",
   "execution_count": 139,
   "metadata": {
    "collapsed": false
   },
   "outputs": [
    {
     "data": {
      "text/plain": [
       "matrix([[ 0.0625]])"
      ]
     },
     "execution_count": 139,
     "metadata": {},
     "output_type": "execute_result"
    }
   ],
   "source": [
    "bm.P(np.matrix([1,1,1,1]).T)"
   ]
  },
  {
   "cell_type": "code",
   "execution_count": 140,
   "metadata": {
    "collapsed": false
   },
   "outputs": [
    {
     "data": {
      "text/plain": [
       "matrix([[ 16.]])"
      ]
     },
     "execution_count": 140,
     "metadata": {},
     "output_type": "execute_result"
    }
   ],
   "source": [
    "bm.Z()"
   ]
  },
  {
   "cell_type": "code",
   "execution_count": 141,
   "metadata": {
    "collapsed": false
   },
   "outputs": [
    {
     "data": {
      "text/plain": [
       "matrix([[ 0.]])"
      ]
     },
     "execution_count": 141,
     "metadata": {},
     "output_type": "execute_result"
    }
   ],
   "source": [
    "bm.E_v(np.matrix([1,1,1,1]).T)"
   ]
  }
 ],
 "metadata": {
  "kernelspec": {
   "display_name": "Python 2",
   "language": "python",
   "name": "python2"
  },
  "language_info": {
   "codemirror_mode": {
    "name": "ipython",
    "version": 2
   },
   "file_extension": ".py",
   "mimetype": "text/x-python",
   "name": "python",
   "nbconvert_exporter": "python",
   "pygments_lexer": "ipython2",
   "version": "2.7.9"
  }
 },
 "nbformat": 4,
 "nbformat_minor": 0
}
