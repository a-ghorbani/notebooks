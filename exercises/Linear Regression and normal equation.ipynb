{
 "cells": [
  {
   "cell_type": "markdown",
   "metadata": {},
   "source": [
    "<h1 style=\"text-align:center;\"> Linear Regression, normal equation and GD using TensorFlow</h1>"
   ]
  },
  {
   "cell_type": "code",
   "execution_count": 1,
   "metadata": {
    "collapsed": true,
    "run_control": {
     "read_only": false
    }
   },
   "outputs": [],
   "source": [
    "import pandas as pd\n",
    "import numpy as np \n",
    "import pylab as plt\n",
    "%matplotlib inline"
   ]
  },
  {
   "cell_type": "markdown",
   "metadata": {},
   "source": [
    "# 1. Normal equation"
   ]
  },
  {
   "cell_type": "code",
   "execution_count": 2,
   "metadata": {
    "collapsed": true,
    "run_control": {
     "read_only": false
    }
   },
   "outputs": [],
   "source": [
    "num_of_observation = 500\n",
    "unkown_std = 0.9\n",
    "num_of_feature = 10\n",
    "a = np.linspace(1,num_of_feature+1,num_of_feature+1)\n",
    "x = np.random.uniform(0, 10, (num_of_feature,num_of_observation))\n",
    "unkown = np.matrix(np.random.normal(0,unkown_std,num_of_observation)).T\n",
    "\n",
    "A = np.matrix(a).T\n",
    "X = np.matrix(\n",
    "    np.vstack((np.ones(num_of_observation),\n",
    "               x))).T\n",
    "Y = X * A + unkown"
   ]
  },
  {
   "cell_type": "markdown",
   "metadata": {},
   "source": [
    "## 1.1 Using numpy"
   ]
  },
  {
   "cell_type": "code",
   "execution_count": 3,
   "metadata": {
    "collapsed": false,
    "run_control": {
     "read_only": false
    }
   },
   "outputs": [],
   "source": [
    "a_hat = X.I * Y # which is (X.T * X).I * (X.T * Y)"
   ]
  },
  {
   "cell_type": "code",
   "execution_count": 4,
   "metadata": {
    "collapsed": false,
    "run_control": {
     "read_only": false
    }
   },
   "outputs": [
    {
     "data": {
      "text/plain": [
       "matrix([[ 0.00036208]])"
      ]
     },
     "execution_count": 4,
     "metadata": {},
     "output_type": "execute_result"
    }
   ],
   "source": [
    "err_abs = a_hat.T - a\n",
    "mse = err_abs.dot(err_abs.T) / max(err_abs.shape)\n",
    "mse"
   ]
  },
  {
   "cell_type": "markdown",
   "metadata": {},
   "source": [
    "## 1.2 Scikit-Learn"
   ]
  },
  {
   "cell_type": "code",
   "execution_count": 5,
   "metadata": {
    "collapsed": false
   },
   "outputs": [
    {
     "data": {
      "text/plain": [
       "0.00036208190886896348"
      ]
     },
     "execution_count": 5,
     "metadata": {},
     "output_type": "execute_result"
    }
   ],
   "source": [
    "from sklearn import linear_model\n",
    "\n",
    "# Create linear regression object\n",
    "regr = linear_model.LinearRegression()\n",
    "\n",
    "# Train the model using the training sets\n",
    "regr.fit(x.T, Y)\n",
    "\n",
    "np.mean((np.append(regr.intercept_,regr.coef_) - a)**2)"
   ]
  },
  {
   "cell_type": "markdown",
   "metadata": {},
   "source": [
    "## 1.3 Using TensorFlow"
   ]
  },
  {
   "cell_type": "code",
   "execution_count": 6,
   "metadata": {
    "collapsed": true
   },
   "outputs": [],
   "source": [
    "import tensorflow as tf"
   ]
  },
  {
   "cell_type": "code",
   "execution_count": 7,
   "metadata": {
    "collapsed": false
   },
   "outputs": [
    {
     "data": {
      "text/plain": [
       "array([[ 0.00035079]])"
      ]
     },
     "execution_count": 7,
     "metadata": {},
     "output_type": "execute_result"
    }
   ],
   "source": [
    "Xph = tf.placeholder(\"float\", shape=[X.shape[0], X.shape[1]]) # create symbolic variables\n",
    "Yph = tf.placeholder(\"float\")\n",
    "\n",
    "XtX   = tf.matmul(Xph,Xph,transpose_a=True)\n",
    "XtX_i = tf.matrix_inverse(XtX)\n",
    "XtY   = tf.matmul(Xph,Yph,transpose_a=True)\n",
    "A_hat = tf.matmul(XtX_i,XtY)\n",
    "\n",
    "sess = tf.Session()\n",
    "\n",
    "a_hat_tf = sess.run(A_hat, feed_dict={Xph: X, Yph: Y})\n",
    "\n",
    "err_abs_tf = a_hat_tf.T - a\n",
    "mse_tf = err_abs_tf.dot(err_abs_tf.T) / max(err_abs_tf.shape)\n",
    "mse_tf"
   ]
  },
  {
   "cell_type": "markdown",
   "metadata": {},
   "source": [
    "# 2. Gradient descent"
   ]
  },
  {
   "cell_type": "markdown",
   "metadata": {},
   "source": [
    "## 2.1 TensorFlow"
   ]
  },
  {
   "cell_type": "markdown",
   "metadata": {},
   "source": [
    "### 2.1.1 Batch-GD"
   ]
  },
  {
   "cell_type": "code",
   "execution_count": 8,
   "metadata": {
    "collapsed": false
   },
   "outputs": [],
   "source": [
    "Xph = tf.placeholder(\"float\", shape=[X.shape[0],X.shape[1]]) # create symbolic variables\n",
    "Yph = tf.placeholder(\"float\")\n",
    "\n",
    "w = tf.Variable(np.zeros((num_of_feature+1,1), dtype=\"float32\"), name=\"weights\")\n",
    "\n",
    "y_model = tf.matmul(Xph, w)\n",
    "\n",
    "cost = (tf.matmul(Yph-y_model, Yph-y_model, transpose_a=True))\n",
    "\n",
    "train_op = tf.train.GradientDescentOptimizer(0.000001).minimize(cost)\n",
    "\n",
    "sess = tf.Session()\n",
    "init = tf.initialize_all_variables() \n",
    "sess.run(init)\n",
    "\n",
    "errors = []\n",
    "for i in range(1000):\n",
    "    errors.append(np.mean((sess.run(w).T - a)**2))\n",
    "    sess.run(train_op, feed_dict={Xph: X, Yph: Y})"
   ]
  },
  {
   "cell_type": "code",
   "execution_count": 9,
   "metadata": {
    "collapsed": false
   },
   "outputs": [
    {
     "data": {
      "image/png": "[encoded data removed]",
      "text/plain": [
       "<matplotlib.figure.Figure at 0x7f7b4f364c10>"
      ]
     },
     "metadata": {},
     "output_type": "display_data"
    }
   ],
   "source": [
    "err_pd = pd.DataFrame(errors)\n",
    "f, ((ax1, ax2)) = plt.subplots(ncols=2,nrows=1)\n",
    "f.set_size_inches(12, 3)\n",
    "ax = err_pd.plot(ax=ax1)\n",
    "ax = err_pd.plot(ax=ax2, ylim=[0,0.01])"
   ]
  },
  {
   "cell_type": "markdown",
   "metadata": {},
   "source": [
    "### 2.1.2 SGD"
   ]
  },
  {
   "cell_type": "code",
   "execution_count": 10,
   "metadata": {
    "collapsed": false
   },
   "outputs": [],
   "source": [
    "Xph = tf.placeholder(\"float\", shape=[1,X.shape[1]]) # create symbolic variables\n",
    "Yph = tf.placeholder(\"float\")\n",
    "\n",
    "w = tf.Variable(np.zeros((num_of_feature+1,1), dtype=\"float32\"), name=\"weights\")\n",
    "\n",
    "y_model = tf.matmul(Xph, w)\n",
    "\n",
    "cost = (tf.matmul(Yph-y_model, Yph-y_model, transpose_a=True))\n",
    "\n",
    "train_op = tf.train.GradientDescentOptimizer(0.0002).minimize(cost)\n",
    "\n",
    "sess = tf.Session()\n",
    "init = tf.initialize_all_variables()\n",
    "sess.run(init)\n",
    "\n",
    "errors = []\n",
    "for i in range(5):\n",
    "    for x_ ,y_ in zip(X, Y):\n",
    "        errors.append(np.mean((sess.run(w).T - a)**2))\n",
    "        sess.run(train_op, feed_dict={Xph: x_, Yph: y_})"
   ]
  },
  {
   "cell_type": "code",
   "execution_count": 11,
   "metadata": {
    "collapsed": false
   },
   "outputs": [
    {
     "data": {
      "image/png": "[encoded data removed]",
      "text/plain": [
       "<matplotlib.figure.Figure at 0x7f7b4c2cdf90>"
      ]
     },
     "metadata": {},
     "output_type": "display_data"
    }
   ],
   "source": [
    "err_pd = pd.DataFrame(errors)\n",
    "f, ((ax1, ax2)) = plt.subplots(ncols=2,nrows=1)\n",
    "f.set_size_inches(12, 3)\n",
    "ax = err_pd.plot(ax=ax1)\n",
    "ax = err_pd.plot(ax=ax2, ylim=[0,0.01])"
   ]
  },
  {
   "cell_type": "markdown",
   "metadata": {},
   "source": [
    "### 2.1.3 Adam algorithm"
   ]
  },
  {
   "cell_type": "code",
   "execution_count": 12,
   "metadata": {
    "collapsed": true
   },
   "outputs": [],
   "source": [
    "Xph = tf.placeholder(\"float\", shape=[1,X.shape[1]]) # create symbolic variables\n",
    "Yph = tf.placeholder(\"float\")\n",
    "\n",
    "w = tf.Variable(np.zeros((num_of_feature+1,1), dtype=\"float32\"), name=\"weights\")\n",
    "\n",
    "y_model = tf.matmul(Xph, w)\n",
    "\n",
    "cost = (tf.matmul(Yph-y_model, Yph-y_model, transpose_a=True))\n",
    "\n",
    "train_op = tf.train.AdamOptimizer(0.04,0.7, 0.8).minimize(cost)\n",
    "\n",
    "sess = tf.Session()\n",
    "init = tf.initialize_all_variables() \n",
    "sess.run(init)\n",
    "\n",
    "errors = []\n",
    "for i in range(20):\n",
    "    for x_ ,y_ in zip(X, Y):\n",
    "        errors.append(np.mean((sess.run(w).T - a)**2))\n",
    "        sess.run(train_op, feed_dict={Xph: x_, Yph: y_})"
   ]
  },
  {
   "cell_type": "code",
   "execution_count": 13,
   "metadata": {
    "collapsed": false
   },
   "outputs": [
    {
     "data": {
      "image/png": "[encoded data removed]",
      "text/plain": [
       "<matplotlib.figure.Figure at 0x7f7b46fda310>"
      ]
     },
     "metadata": {},
     "output_type": "display_data"
    }
   ],
   "source": [
    "err_pd = pd.DataFrame(errors)\n",
    "f, ((ax1, ax2)) = plt.subplots(ncols=2,nrows=1)\n",
    "f.set_size_inches(12, 3)\n",
    "ax = err_pd.plot(ax=ax1)\n",
    "ax = err_pd.plot(ax=ax2, ylim=[0,0.01])"
   ]
  },
  {
   "cell_type": "code",
   "execution_count": null,
   "metadata": {
    "collapsed": true
   },
   "outputs": [],
   "source": []
  }
 ],
 "metadata": {
  "kernelspec": {
   "display_name": "Python 2",
   "language": "python",
   "name": "python2"
  },
  "language_info": {
   "codemirror_mode": {
    "name": "ipython",
    "version": 2
   },
   "file_extension": ".py",
   "mimetype": "text/x-python",
   "name": "python",
   "nbconvert_exporter": "python",
   "pygments_lexer": "ipython2",
   "version": "2.7.9"
  }
 },
 "nbformat": 4,
 "nbformat_minor": 0
}
